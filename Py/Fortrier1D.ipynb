{
 "cells": [
  {
   "cell_type": "code",
   "execution_count": 1,
   "metadata": {},
   "outputs": [],
   "source": [
    "from numpy import *\n"
   ]
  },
  {
   "cell_type": "code",
   "execution_count": null,
   "metadata": {},
   "outputs": [],
   "source": [
    "N = 10\n",
    "\n",
    "A = "
   ]
  },
  {
   "cell_type": "code",
   "execution_count": 5,
   "metadata": {},
   "outputs": [
    {
     "data": {
      "application/javascript": [
       "requirejs.config({\n",
       "    paths: {\n",
       "        d3: 'https://d3js.org/d3.v5.min'\n",
       "    }\n",
       "});\n"
      ],
      "text/plain": [
       "<IPython.core.display.Javascript object>"
      ]
     },
     "metadata": {},
     "output_type": "display_data"
    }
   ],
   "source": [
    "%%javascript\n",
    "requirejs.config({\n",
    "    paths: {\n",
    "        d3: 'https://d3js.org/d3.v5.min'\n",
    "    }\n",
    "});"
   ]
  },
  {
   "cell_type": "code",
   "execution_count": 2,
   "metadata": {},
   "outputs": [
    {
     "data": {
      "application/javascript": [
       "(function(element) {\n",
       "    require(['d3'], function(d3) {   \n",
       "        var data = [1, 2, 4, 8, 16, 8, 4, 2, 1]\n",
       "\n",
       "        var svg = d3.select(element.get(0)).append('svg')\n",
       "            .attr('width', 400)\n",
       "            .attr('height', 200);\n",
       "        svg.selectAll('circle')\n",
       "            .data(data)\n",
       "            .enter()\n",
       "            .append('circle')\n",
       "            .attr(\"cx\", function(d, i) {return 40 * (i + 1);})\n",
       "            .attr(\"cy\", function(d, i) {return 100 + 30 * (i % 3 - 1);})\n",
       "            .style(\"fill\", \"#1570a4\")\n",
       "            .transition().duration(2000)\n",
       "            .attr(\"r\", function(d) {return 2*d;})\n",
       "        ;\n",
       "    })\n",
       "})(element);\n"
      ],
      "text/plain": [
       "<IPython.core.display.Javascript object>"
      ]
     },
     "metadata": {},
     "output_type": "display_data"
    }
   ],
   "source": [
    "%%javascript\n",
    "(function(element) {\n",
    "    require(['d3'], function(d3) {   \n",
    "        var data = [1, 2, 4, 8, 16, 8, 4, 2, 1]\n",
    "\n",
    "        var svg = d3.select(element.get(0)).append('svg')\n",
    "            .attr('width', 400)\n",
    "            .attr('height', 200);\n",
    "        svg.selectAll('circle')\n",
    "            .data(data)\n",
    "            .enter()\n",
    "            .append('circle')\n",
    "            .attr(\"cx\", function(d, i) {return 40 * (i + 1);})\n",
    "            .attr(\"cy\", function(d, i) {return 100 + 30 * (i % 3 - 1);})\n",
    "            .style(\"fill\", \"#1570a4\")\n",
    "            .transition().duration(2000)\n",
    "            .attr(\"r\", function(d) {return 2*d;})\n",
    "        ;\n",
    "    })\n",
    "})(element);"
   ]
  },
  {
   "cell_type": "code",
   "execution_count": 7,
   "metadata": {},
   "outputs": [
    {
     "data": {
      "application/javascript": [
       "const PhCon =  {CL:2.997925E10,\n",
       "                G: 6.67384E-8,\n",
       "                QE:4.80325E-10,\n",
       "                MSOL:1.989E33,\n",
       "                MSUN: 1.989E33,\n",
       "                ARAD: 7.56464E-15,\n",
       "                SGMB: 7.56464E-15 *2.997925E10/4.,                            \n",
       "                RGAS: 8.31E7,\n",
       "                PC: 3.085678E18,\n",
       "                MP: 1.672661E-24, \n",
       "                M_U: 1.660531E-24,\n",
       "                RSOL: 6.95E10,\n",
       "                RSUN: 6.95E10,\n",
       "                YR: 365.*24.*3600,                        \n",
       "                MSOLYR: 1.989e33/(365*24*3600),\n",
       "                GAM: 5./3.,\n",
       "                KPE: 0.4,\n",
       "                PC: 3.0E18,\n",
       "                KPD: 10.,                                \n",
       "                M_MW: 1.\n",
       "}\n",
       "\n",
       "\n",
       "function linspace(a,b,n) {\n",
       "    if(typeof n === \"undefined\") n = Math.max(Math.round(b-a)+1,1);\n",
       "    if(n<2) { return n===1?[a]:[]; }\n",
       "    var i,ret = Array(n);\n",
       "    n--;\n",
       "    for(i=n;i>=0;i--) { ret[i] = (i*b+(n-i)*a)/n; }\n",
       "    return ret;\n",
       "    }\n",
       "  \n",
       "  //console.log(dat)\n"
      ],
      "text/plain": [
       "<IPython.core.display.Javascript object>"
      ]
     },
     "metadata": {},
     "output_type": "display_data"
    }
   ],
   "source": [
    "%%javascript\n",
    "const PhCon =  {CL:2.997925E10,\n",
    "                G: 6.67384E-8,\n",
    "                QE:4.80325E-10,\n",
    "                MSOL:1.989E33,\n",
    "                MSUN: 1.989E33,\n",
    "                ARAD: 7.56464E-15,\n",
    "                SGMB: 7.56464E-15 *2.997925E10/4.,                            \n",
    "                RGAS: 8.31E7,\n",
    "                PC: 3.085678E18,\n",
    "                MP: 1.672661E-24, \n",
    "                M_U: 1.660531E-24,\n",
    "                RSOL: 6.95E10,\n",
    "                RSUN: 6.95E10,\n",
    "                YR: 365.*24.*3600,                        \n",
    "                MSOLYR: 1.989e33/(365*24*3600),\n",
    "                GAM: 5./3.,\n",
    "                KPE: 0.4,\n",
    "                PC: 3.0E18,\n",
    "                KPD: 10.,                                \n",
    "                M_MW: 1.\n",
    "}\n",
    "\n",
    "\n",
    "function linspace(a,b,n) {\n",
    "    if(typeof n === \"undefined\") n = Math.max(Math.round(b-a)+1,1);\n",
    "    if(n<2) { return n===1?[a]:[]; }\n",
    "    var i,ret = Array(n);\n",
    "    n--;\n",
    "    for(i=n;i>=0;i--) { ret[i] = (i*b+(n-i)*a)/n; }\n",
    "    return ret;\n",
    "    }\n",
    "  \n",
    "  //console.log(dat)\n"
   ]
  },
  {
   "cell_type": "code",
   "execution_count": null,
   "metadata": {},
   "outputs": [],
   "source": []
  }
 ],
 "metadata": {
  "kernelspec": {
   "display_name": "Python 3",
   "language": "python",
   "name": "python3"
  },
  "language_info": {
   "codemirror_mode": {
    "name": "ipython",
    "version": 3
   },
   "file_extension": ".py",
   "mimetype": "text/x-python",
   "name": "python",
   "nbconvert_exporter": "python",
   "pygments_lexer": "ipython3",
   "version": "3.7.4"
  }
 },
 "nbformat": 4,
 "nbformat_minor": 4
}
