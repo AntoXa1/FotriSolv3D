{
 "cells": [
  {
   "cell_type": "code",
   "execution_count": null,
   "source": [
    "push!(LOAD_PATH, pwd())\n",
    "include(\"./physconsts.jl\")\n",
    "using .PhysConst\n"
   ],
   "outputs": [],
   "metadata": {}
  },
  {
   "cell_type": "code",
   "execution_count": 10,
   "source": [
    "import Printf\n",
    "using Printf"
   ],
   "outputs": [],
   "metadata": {}
  },
  {
   "cell_type": "code",
   "execution_count": 10,
   "source": [
    "GiveSoundSpeed = function(T0)\n",
    "        return ((RGAS*T0)^0.5)\n",
    "end\n",
    "\n",
    "GiveCrat = function(v0)\n",
    "        return(CL/v0)\n",
    "end\n",
    "\n",
    "GivePrat = function(ro0, T0, v0)\n",
    "        return(ARAD*T0^4/ro0/v0^2)\n",
    "end\n"
   ],
   "outputs": [
    {
     "output_type": "execute_result",
     "data": {
      "text/plain": [
       "#21 (generic function with 1 method)"
      ]
     },
     "metadata": {},
     "execution_count": 10
    }
   ],
   "metadata": {}
  },
  {
   "cell_type": "code",
   "execution_count": 6,
   "source": [
    "GiveSoundSpeed(2e5)"
   ],
   "outputs": [
    {
     "output_type": "execute_result",
     "data": {
      "text/plain": [
       "4.0767634221279016e6"
      ]
     },
     "metadata": {},
     "execution_count": 6
    }
   ],
   "metadata": {}
  },
  {
   "cell_type": "code",
   "execution_count": 9,
   "source": [
    "T0=2e5\n",
    "V0 = GiveSoundSpeed(T0)\n",
    "GiveCrat()\n",
    "GivePrat(1e-8,T0, GiveSoundSpeed(T0))"
   ],
   "outputs": [
    {
     "output_type": "execute_result",
     "data": {
      "text/plain": [
       "72.82445246690736"
      ]
     },
     "metadata": {},
     "execution_count": 9
    }
   ],
   "metadata": {}
  },
  {
   "cell_type": "code",
   "execution_count": 1,
   "source": [
    "pwd()\n"
   ],
   "outputs": [
    {
     "output_type": "execute_result",
     "data": {
      "text/plain": [
       "\"/Users/avdorodn/PROGRAMS/PROJECTS/FotriSolv3D/Py\""
      ]
     },
     "metadata": {},
     "execution_count": 1
    }
   ],
   "metadata": {}
  },
  {
   "cell_type": "code",
   "execution_count": 14,
   "source": [
    "using Printf\n",
    "\n",
    "function read_ath_data1()        \n",
    "    open(\"/Users/avdorodn/PROGRAMS/PROJECTS/FotriSolv3D/Py/ath_test.txt\") do file                                 \n",
    "        nph=nth=nr=0\n",
    "        i=j=1\n",
    "        ls=4\n",
    "        for (l,ln) in enumerate(eachline(file))\n",
    "            if l==2\n",
    "                @show nph,nth,nr = [parse(Int, ss) for ss in split(ln,\" \")]       \n",
    "                # Printf.@printf(\"%d %d %d %d\\n\",l,nph,nth,nr)   \n",
    "                global rho=zeros(nr,nth);            \n",
    "            end                                \n",
    "            if l >= 4                                \n",
    "                if l<=ls+nr-1                    \n",
    "                # println(\"i=  \", i,\"  j=\", j,\"  l= \", l,  \" ls= \", ls,  \"  rho=\", ln)                                        \n",
    "                    rho[i,j]=parse(Float64,ln)\n",
    "                    i+=1\n",
    "                elseif l==ls+nr\n",
    "                    i=1\n",
    "                    j+=1\n",
    "                    ls += nr+1\n",
    "                end                                                \n",
    "            end                                    \n",
    "        end\n",
    "    end\n",
    "    return(rho)\n",
    "end\n",
    "\n",
    "ro = read_ath_data1()\n",
    "println( ro[407,1])\n"
   ],
   "outputs": [
    {
     "output_type": "stream",
     "name": "stdout",
     "text": [
      "(nph, nth, nr) = [parse(Int, ss) for ss = split(ln, \" \")] = [1, 240, 520]\n",
      "1.792017734203455e-8\n"
     ]
    }
   ],
   "metadata": {}
  },
  {
   "cell_type": "code",
   "execution_count": 16,
   "source": [
    "ro[:,1]"
   ],
   "outputs": [
    {
     "output_type": "execute_result",
     "data": {
      "text/plain": [
       "520-element Array{Float64,1}:\n",
       " 9.99999993922529e-9\n",
       " 9.99999993922529e-9\n",
       " 9.99999993922529e-9\n",
       " 9.99999993922529e-9\n",
       " 9.99999993922529e-9\n",
       " 9.99999993922529e-9\n",
       " 9.99999993922529e-9\n",
       " 9.99999993922529e-9\n",
       " 9.99999993922529e-9\n",
       " 9.99999993922529e-9\n",
       " 9.99999993922529e-9\n",
       " 9.99999993922529e-9\n",
       " 9.99999993922529e-9\n",
       " ⋮\n",
       " 1.0302692921015932e-8\n",
       " 1.0285671869780799e-8\n",
       " 1.0269236128124248e-8\n",
       " 1.0253328852627419e-8\n",
       " 1.0237883429908834e-8\n",
       " 1.0222829693873337e-8\n",
       " 1.0208085043927895e-8\n",
       " 1.0193552668624761e-8\n",
       " 1.0179092235773624e-8\n",
       " 1.0164818320390623e-8\n",
       " 1.0152502838423061e-8\n",
       " 1.010040584503713e-8"
      ]
     },
     "metadata": {},
     "execution_count": 16
    }
   ],
   "metadata": {}
  },
  {
   "cell_type": "code",
   "execution_count": null,
   "source": [],
   "outputs": [],
   "metadata": {}
  }
 ],
 "metadata": {
  "kernelspec": {
   "display_name": "Julia 1.4.2",
   "language": "julia",
   "name": "julia-1.4"
  },
  "language_info": {
   "file_extension": ".jl",
   "mimetype": "application/julia",
   "name": "julia",
   "version": "1.4.2"
  }
 },
 "nbformat": 4,
 "nbformat_minor": 4
}