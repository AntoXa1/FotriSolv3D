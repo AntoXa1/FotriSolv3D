{
  "cells": [
    {
      "cell_type": "code",
      "source": [
        "workspace()\n",
        "\n",
        "module phys_consts\n",
        "    export CL,G,QE,MSOL,MSUN,ARAD,SGMB,RGAS,\n",
        "            PC,RSUN,RSUN,YR,MSOLYR,GAM53,KPE,PARSEC,KPE,KPD,M_MW\n",
        "    CL = 2.997925E10;\n",
        "    G = 6.67384E-8; \n",
        "    QE=4.80325E-10;\n",
        "    MSOL = 1.989E33;\n",
        "    MSUN = 1.989E33;\n",
        "    ARAD = 7.56464E-15; \n",
        "    SGMB = ARAD*CL/4;\n",
        "    RGAS = 8.31E7; \n",
        "    PC = 3.085678E18;\n",
        "    MP = 1.672661E-24; \n",
        "    M_U = 1.660531E-24;    \n",
        "    RSUN = 6.95E10;\n",
        "    YR = 365.*24.*3600.;\n",
        "    MSOLYR = 1.989e33/YR;\n",
        "\n",
        "    GAM53 = 5./3.;\n",
        "    KPE = 0.4;  \n",
        "    KPD = 10.;\n",
        "    M_MW=1.;\n",
        "end\n",
        "\n",
        "module Model_mod\n",
        "\n",
        "#     export par, MyMod\n",
        "# ,   mymod\n",
        "\n",
        "    struct ModelParams\n",
        "    \n",
        "        Rsc::Float64   \n",
        "        nc0::Float64\n",
        "    \n",
        "#         r_small :: Float64 \n",
        "    \n",
        "#         L_box   :: Float64   \n",
        "#         Lhalf :: Float64\n",
        "#         Nx :: Int16\n",
        "#         Ny :: Int16\n",
        "#         Nz :: Int16    \n",
        "\n",
        "    \n",
        "    end    \n",
        "    \n",
        "#     function ModelParams(R, r)\n",
        "#         Rsc = R\n",
        "#         r_small = 0\n",
        "#     end\n",
        "\n",
        "#     struct MyMod\n",
        "#         r_small :: Float64 \n",
        "#         L_box   :: Float64   \n",
        "#         Lhalf :: Float64\n",
        "#         Nx :: Int16\n",
        "#         Ny :: Int16\n",
        "#         Nz :: Int16    \n",
        "#     #     R_0\n",
        "#     #     L_box,\n",
        "#     #     Lhalf = div(L_box,2)\n",
        "#     end\n",
        "\n",
        "   \n",
        "  \n",
        "end \n",
        "\n\n\n",
        "# function tor((rho, xx, yy, zz, h, R_in, R_out, Nx)\n",
        "    \n",
        "#     for i in eachindex(xx), j in eachindex(yy), k in eachindex(zz)       \n",
        "        \n",
        "#         r = (xx[i]^2 + yy[j]^2)^1/2        \n",
        "        \n",
        "#        if  (abs(zz[k]) < h) & (r > R_in) & (r<R_out) \n",
        "#             rho[i,j,k] = 1.             \n",
        "#        else                   \n",
        "#          rho[i,j,k]=eps(Float64)\n",
        "#        end\n",
        "        \n",
        "# #        @show i,j,k,rho[i,j,k]\n",
        "    \n",
        "#     end\n",
        "    \n",
        "#     return(rho)\n",
        "\n",
        "# end\n",
        "\n",
        "#     r_small = 1\n",
        "#     R_0 = 10\n",
        "                         \n",
        "#     for x in xx, z in zz                   \n",
        "#         r = ((x-R_0)^2 + (z - 0.).^2)^1/2                    \n",
        "#         if r < r_0\n",
        "#                 rho = 1   \n",
        "       \n",
        "#         else                \n",
        "#             rho = eps;            \n",
        "#         end\n",
        "#     #         println(r)                            \n",
        "#     end    \n",
        "#     #     rho =   x.^2 + y.^2;    \n",
        "# end\n",
        "\n",
        "# dat = Model_mod.Model(1, 10., 10, 5, 3)\n",
        "# println(dat.r_small)"
      ],
      "outputs": [],
      "execution_count": 2,
      "metadata": {
        "collapsed": false,
        "inputHidden": false,
        "outputHidden": false
      }
    },
    {
      "cell_type": "code",
      "source": [
        "# reload(\"Model_mod\")"
      ],
      "outputs": [],
      "execution_count": 58,
      "metadata": {}
    },
    {
      "cell_type": "code",
      "source": [
        "# function disk(rho::Float64, xx::Float64, yy::Float64, zz::Float64, h::Float64, R_in::Float64, R_out::Float64, Nx::Int, nd::Float64)    \n",
        "function disk(rho, xx, yy, zz, h, R_in, R_out, Nx, nd)    \n",
        "\n",
        "    for i in eachindex(xx), j in eachindex(yy), k in eachindex(zz)       \n",
        "        r = (xx[i]^2 + yy[j]^2)^1/2        \n",
        "       if  (abs(zz[k]) < h) & (r > R_in) & (r<R_out) \n",
        "            rho[i,j,k] = nd             \n",
        "       else                   \n",
        "         rho[i,j,k] = 10.\n",
        "       end\n",
        "#        @show i,j,k,rho[i,j,k]\n",
        "    end\n",
        "\n",
        "    return(rho)\n",
        "end"
      ],
      "outputs": [
        {
          "output_type": "execute_result",
          "execution_count": 2,
          "data": {
            "text/plain": [
              "disk (generic function with 1 method)"
            ]
          },
          "metadata": {}
        }
      ],
      "execution_count": 2,
      "metadata": {}
    },
    {
      "cell_type": "code",
      "source": [
        "\n",
        "import phys_consts: PC\n",
        "import phys_consts: PC\n",
        "import Model_mod: ModelParams\n",
        "\n",
        "# function disk(rho::Float64, xx::Float64, yy::Float64, zz::Float64, h::Float64, R_in::Float64, R_out::Float64, Nx, nd::Float64)    \n",
        "\n",
        "#     for i in eachindex(xx), j in eachindex(yy), k in eachindex(zz)       \n",
        "#         r = (xx[i]^2 + yy[j]^2)^1/2        \n",
        "#        if  (abs(zz[k]) < h) & (r > R_in) & (r<R_out) \n",
        "#             rho[i,j,k] = nd             \n",
        "#        else                   \n",
        "#          rho[i,j,k] = 10.\n",
        "#        end\n",
        "# #        @show i,j,k,rho[i,j,k]\n",
        "#     end\n",
        "\n",
        "#     return(rho)\n",
        "# end\n",
        "\n\n",
        "function main()\n",
        " \n",
        "    # ModelParams(R) = ModelParams(R, 0.01)\n",
        "\n",
        "    par = ModelParams(PC, 1e8);\n",
        "\n",
        "    @show par.Rsc  par.nc0\n",
        "                \n",
        "\n",
        "    # Dust grains\n",
        "    # a = 1e-4\n",
        "    # Md = (4/3)π * a^3* ρ_d\n",
        "\n",
        "    \n",
        "    nh  = 0.5*par.nc0\n",
        "    \n",
        "    Agr = 9.5e-12 #D. Namekata,‹ M. Umemura and K. Hasegawa\n",
        "    \n",
        "    ngr  = nh * Agr\n",
        "    \n",
        "    @show ngr, nh Agr\n",
        "    \n",
        "    h = 3.\n",
        "\n",
        "    L_box = 10.\n",
        "    Lhalf = div(L_box,2)\n",
        "\n",
        "    R_in = 0.2*Lhalf\n",
        "\n\n",
        "    R_out = Lhalf\n",
        "\n",
        "    Nx = 10\n",
        "    Ny = Nx\n",
        "    Nz = Nx\n",
        "\n",
        "    @show Nx*Ny*Nz\n",
        "\n",
        "    xx = linspace(-Lhalf,  Lhalf,  Nx)\n",
        "    yy = linspace(-Lhalf,  Lhalf,  Ny)    \n",
        "    zz = linspace(-Lhalf,  Lhalf,  Nz)    \n",
        "@show typeof(xx)\n",
        "    rho = zeros(Float64, Nx, Ny, Nz);\n",
        "\n",
        "    disk(rho, xx, yy, zz, h, R_in, R_out, Nx, ngr) \n",
        "\n",
        "    Xsc = par.Rsc\n",
        "    Nsc = ngr\n",
        "    \n",
        "    file = \"/Users/dora/WORK/SCRIPTS/torus_prof.dat\"\n",
        "    f =open(file , \"w\")\n",
        "    write(f, \"Fortran-style, i.e. column-major indexing: F(i,j,k) \\n\\n\")    \n",
        "    write(f, \"Nx =$Nx, Ny=$Ny, Nz=$Nz \\n\\n\")\n",
        "\n",
        "    write(f, \"x-coord [cm] \\n\")\n",
        "    for x in xx\n",
        "        @printf(f, \"%e \\n\", x*Xsc) \n",
        "    end\n",
        "\n",
        "    write(f, \"\\n  y-coord [cm] \\n\")\n",
        "    for y in yy\n",
        "        @printf(f, \"%e \\n\", y*Xsc) \n",
        "    end\n",
        "\n",
        "    write(f, \"\\n z-coord [cm] \\n\")\n",
        "    for z in zz\n",
        "        @printf(f, \"%e \\n\", z*Xsc) \n",
        "\n",
        "    end\n",
        "\n\n",
        "    write(f, \"\\n\n",
        "    dust number density [particle cm^-3], rho[i,j,k], \n",
        "    template:\n",
        "    for  k in 1:$Nz\n",
        "      for j in $Ny\n",
        "        for i in $Nz\\n\") \n",
        "\n",
        "    for  k in eachindex(zz) \n",
        "        for j in eachindex(yy) \n",
        "            for i in eachindex(xx)\n",
        "#                 @show(i,j,k)\n",
        "                @printf(f, \"%e \\n\", rho[i,j,k] * Nsc) \n",
        "            end\n",
        "    \" loop j \"  end\n",
        "    \" loop k \" end\n",
        "\n",
        "    close(f)\n",
        "\n",
        "\"end main\" end \n",
        "\n",
        "tic()\n",
        "main()\n",
        "toc()\n",
        "\"done\"\n"
      ],
      "outputs": [
        {
          "output_type": "stream",
          "name": "stdout",
          "text": [
            "par.Rsc = 3.085678e18\n",
            "par.nc0 = 1.0e8\n",
            "(ngr, nh) = (0.000475, 5.0e7)\n",
            "Agr = 9.5e-12\n",
            "Nx * Ny * Nz = 1000\n",
            "typeof(xx) = StepRangeLen{Float64,Base.TwicePrecision{Float64},Base.TwicePrecision{Float64}}\n",
            "elapsed time: 0.405946786 seconds\n"
          ]
        },
        {
          "output_type": "execute_result",
          "execution_count": 3,
          "data": {
            "text/plain": [
              "\"done\""
            ]
          },
          "metadata": {}
        }
      ],
      "execution_count": 3,
      "metadata": {
        "collapsed": false,
        "inputHidden": false,
        "outputHidden": false
      }
    },
    {
      "cell_type": "code",
      "source": [
        "using PyPlot\n",
        "import Plots\n",
        "\n",
        "function f(x)\n",
        "    y = x^2\n",
        "    return (y)\n",
        "end\n",
        "\n",
        "x = 0.01:0.001:6\n",
        "\n",
        "y = 1./sin.(x).^2\n",
        "\nplt=plot(x,y)"
      ],
      "outputs": [
        {
          "output_type": "display_data",
          "data": {
            "image/png": "[encoded data removed]",
            "text/plain": [
              "PyPlot.Figure(PyObject <matplotlib.figure.Figure object at 0x13077bd50>)"
            ]
          },
          "metadata": {}
        },
        {
          "output_type": "execute_result",
          "execution_count": 6,
          "data": {
            "text/plain": [
              "1-element Array{PyCall.PyObject,1}:\n",
              " PyObject <matplotlib.lines.Line2D object at 0x1308b7810>"
            ]
          },
          "metadata": {}
        }
      ],
      "execution_count": 6,
      "metadata": {}
    },
    {
      "cell_type": "code",
      "source": [
        "import phys_consts: PC, KPD, KPE, MP\n",
        "\n",
        "numd = 1e8\n",
        "\n",
        "@show den  = numd*MP\n",
        "\n",
        "@show tau = PC*KPE*den\n",
        "\n",
        "1/(PC*KPE*MP)\n",
        "\n",
        "1/(PC*KPD*MP)\n"
      ],
      "outputs": [
        {
          "output_type": "stream",
          "name": "stdout",
          "text": [
            "den = numd * MP = 1.6726610000000002e-16\n",
            "tau = PC * KPE * den = 206.45172996632002\n"
          ]
        },
        {
          "output_type": "execute_result",
          "execution_count": 6,
          "data": {
            "text/plain": [
              "19374.989013909202"
            ]
          },
          "metadata": {}
        }
      ],
      "execution_count": 6,
      "metadata": {}
    },
    {
      "cell_type": "code",
      "source": [
        "\n\n"
      ],
      "outputs": [
        {
          "output_type": "execute_result",
          "execution_count": 22,
          "data": {
            "text/plain": [
              "0.000475"
            ]
          },
          "metadata": {}
        }
      ],
      "execution_count": 22,
      "metadata": {}
    },
    {
      "cell_type": "markdown",
      "source": [
        "Dust density: \n",
        "\n",
        "$\\rho_d$, Opacity: ${\\displaystyle \\tau_d = \\int_0^r\\, \\kappa_d \\,\\rho\\,d r}$\n"
      ],
      "metadata": {}
    },
    {
      "cell_type": "code",
      "source": [
        "Γ_e =  4π CL G M/κ"
      ],
      "outputs": [
        {
          "output_type": "error",
          "ename": "LoadError",
          "evalue": "\u001b[91msyntax: extra token \"CL\" after end of expression\u001b[39m",
          "traceback": [
            "\u001b[91msyntax: extra token \"CL\" after end of expression\u001b[39m",
            "",
            "Stacktrace:",
            " [1] \u001b[1minclude_string\u001b[22m\u001b[22m\u001b[1m(\u001b[22m\u001b[22m::String, ::String\u001b[1m)\u001b[22m\u001b[22m at \u001b[1m./loading.jl:522\u001b[22m\u001b[22m"
          ]
        }
      ],
      "execution_count": 3,
      "metadata": {}
    },
    {
      "cell_type": "code",
      "source": [
        "import Elliptic"
      ],
      "outputs": [
        {
          "output_type": "error",
          "ename": "LoadError",
          "evalue": "\u001b[91mArgumentError: Module Elliptic not found in current path.\nRun `Pkg.add(\"Elliptic\")` to install the Elliptic package.\u001b[39m",
          "traceback": [
            "\u001b[91mArgumentError: Module Elliptic not found in current path.\nRun `Pkg.add(\"Elliptic\")` to install the Elliptic package.\u001b[39m",
            "",
            "Stacktrace:",
            " [1] \u001b[1m_require\u001b[22m\u001b[22m\u001b[1m(\u001b[22m\u001b[22m::Symbol\u001b[1m)\u001b[22m\u001b[22m at \u001b[1m./loading.jl:435\u001b[22m\u001b[22m",
            " [2] \u001b[1mrequire\u001b[22m\u001b[22m\u001b[1m(\u001b[22m\u001b[22m::Symbol\u001b[1m)\u001b[22m\u001b[22m at \u001b[1m./loading.jl:405\u001b[22m\u001b[22m",
            " [3] \u001b[1minclude_string\u001b[22m\u001b[22m\u001b[1m(\u001b[22m\u001b[22m::String, ::String\u001b[1m)\u001b[22m\u001b[22m at \u001b[1m./loading.jl:522\u001b[22m\u001b[22m"
          ]
        }
      ],
      "execution_count": 5,
      "metadata": {}
    },
    {
      "cell_type": "code",
      "source": [
        "Pkg.add(\"PyCall\");"
      ],
      "outputs": [
        {
          "output_type": "stream",
          "name": "stderr",
          "text": [
            "\u001b[1m\u001b[36mINFO: \u001b[39m\u001b[22m\u001b[36mPackage PyCall is already installed\n",
            "\u001b[39m\u001b[1m\u001b[36mINFO: \u001b[39m\u001b[22m\u001b[36mMETADATA is out-of-date — you may not have the latest version of PyCall\n",
            "\u001b[39m\u001b[1m\u001b[36mINFO: \u001b[39m\u001b[22m\u001b[36mUse `Pkg.update()` to get the latest versions of your packages\n",
            "\u001b[39m"
          ]
        }
      ],
      "execution_count": 5,
      "metadata": {}
    },
    {
      "cell_type": "code",
      "source": [
        "using PyCall\n"
      ],
      "outputs": [
        {
          "output_type": "stream",
          "name": "stderr",
          "text": [
            "\u001b[1m\u001b[36mINFO: \u001b[39m\u001b[22m\u001b[36mRecompiling stale cache file /Applications/JuliaPro-0.6.2.2.app/Contents/Resources/pkgs-0.6.2.2/lib/v0.6/PyCall.ji for module PyCall.\n",
            "\u001b[39m"
          ]
        }
      ],
      "execution_count": 1,
      "metadata": {}
    },
    {
      "cell_type": "code",
      "source": [
        "unshift!(PyVector(pyimport(\"sys\")[\"path\"]),\"/Users/dora/WORK/SCRIPTS\");"
      ],
      "outputs": [],
      "execution_count": 5,
      "metadata": {}
    },
    {
      "cell_type": "code",
      "source": [
        "# from AthenaModelVTK import *\n",
        "@pyimport AthenaModelVTK "
      ],
      "outputs": [],
      "execution_count": 7,
      "metadata": {}
    },
    {
      "cell_type": "code",
      "source": [
        "using Elliptic"
      ],
      "outputs": [
        {
          "output_type": "error",
          "ename": "LoadError",
          "evalue": "\u001b[91mArgumentError: Module Elliptic not found in current path.\nRun `Pkg.add(\"Elliptic\")` to install the Elliptic package.\u001b[39m",
          "traceback": [
            "\u001b[91mArgumentError: Module Elliptic not found in current path.\nRun `Pkg.add(\"Elliptic\")` to install the Elliptic package.\u001b[39m",
            "",
            "Stacktrace:",
            " [1] \u001b[1m_require\u001b[22m\u001b[22m\u001b[1m(\u001b[22m\u001b[22m::Symbol\u001b[1m)\u001b[22m\u001b[22m at \u001b[1m./loading.jl:435\u001b[22m\u001b[22m",
            " [2] \u001b[1mrequire\u001b[22m\u001b[22m\u001b[1m(\u001b[22m\u001b[22m::Symbol\u001b[1m)\u001b[22m\u001b[22m at \u001b[1m./loading.jl:405\u001b[22m\u001b[22m",
            " [3] \u001b[1minclude_string\u001b[22m\u001b[22m\u001b[1m(\u001b[22m\u001b[22m::String, ::String\u001b[1m)\u001b[22m\u001b[22m at \u001b[1m./loading.jl:522\u001b[22m\u001b[22m"
          ]
        }
      ],
      "execution_count": 4,
      "metadata": {}
    },
    {
      "cell_type": "code",
      "source": [
        "Pkg.add(\"Elliptic\")"
      ],
      "outputs": [
        {
          "output_type": "error",
          "ename": "LoadError",
          "evalue": "\u001b[91m\u001b[91mresolve is unable to satisfy package requirements.\n  The problem was detected when trying to find a feasible version\n  for package Compat.\n  However, this only means that package Compat is involved in an\n  unsatisfiable or difficult dependency relation, and the root of\n  the problem may be elsewhere.\n\u001b[39m\nresolve(::Dict{String,Base.Pkg.Types.VersionSet}, ::Dict{String,Dict{VersionNumber,Base.Pkg.Types.Available}}) at ./pkg/resolve.jl:48\nresolve(::Dict{String,Base.Pkg.Types.VersionSet}, ::Dict{String,Dict{VersionNumber,Base.Pkg.Types.Available}}, ::Dict{String,Tuple{VersionNumber,Bool}}, ::Dict{String,Base.Pkg.Types.Fixed}, ::Dict{String,VersionNumber}, ::Set{String}) at ./pkg/entry.jl:499\nresolve(::Dict{String,Base.Pkg.Types.VersionSet}, ::Dict{String,Dict{VersionNumber,Base.Pkg.Types.Available}}, ::Dict{String,Tuple{VersionNumber,Bool}}, ::Dict{String,Base.Pkg.Types.Fixed}) at ./pkg/entry.jl:479\nedit(::Function, ::String, ::Base.Pkg.Types.VersionSet, ::Vararg{Base.Pkg.Types.VersionSet,N} where N) at ./pkg/entry.jl:30\n(::Base.Pkg.Entry.##1#3{String,Base.Pkg.Types.VersionSet})() at ./task.jl:335\u001b[39m",
          "traceback": [
            "\u001b[91m\u001b[91mresolve is unable to satisfy package requirements.\n  The problem was detected when trying to find a feasible version\n  for package Compat.\n  However, this only means that package Compat is involved in an\n  unsatisfiable or difficult dependency relation, and the root of\n  the problem may be elsewhere.\n\u001b[39m\nresolve(::Dict{String,Base.Pkg.Types.VersionSet}, ::Dict{String,Dict{VersionNumber,Base.Pkg.Types.Available}}) at ./pkg/resolve.jl:48\nresolve(::Dict{String,Base.Pkg.Types.VersionSet}, ::Dict{String,Dict{VersionNumber,Base.Pkg.Types.Available}}, ::Dict{String,Tuple{VersionNumber,Bool}}, ::Dict{String,Base.Pkg.Types.Fixed}, ::Dict{String,VersionNumber}, ::Set{String}) at ./pkg/entry.jl:499\nresolve(::Dict{String,Base.Pkg.Types.VersionSet}, ::Dict{String,Dict{VersionNumber,Base.Pkg.Types.Available}}, ::Dict{String,Tuple{VersionNumber,Bool}}, ::Dict{String,Base.Pkg.Types.Fixed}) at ./pkg/entry.jl:479\nedit(::Function, ::String, ::Base.Pkg.Types.VersionSet, ::Vararg{Base.Pkg.Types.VersionSet,N} where N) at ./pkg/entry.jl:30\n(::Base.Pkg.Entry.##1#3{String,Base.Pkg.Types.VersionSet})() at ./task.jl:335\u001b[39m",
            "",
            "Stacktrace:",
            " [1] \u001b[1msync_end\u001b[22m\u001b[22m\u001b[1m(\u001b[22m\u001b[22m\u001b[1m)\u001b[22m\u001b[22m at \u001b[1m./task.jl:287\u001b[22m\u001b[22m",
            " [2] \u001b[1mmacro expansion\u001b[22m\u001b[22m at \u001b[1m./task.jl:303\u001b[22m\u001b[22m [inlined]",
            " [3] \u001b[1madd\u001b[22m\u001b[22m\u001b[1m(\u001b[22m\u001b[22m::String, ::Base.Pkg.Types.VersionSet\u001b[1m)\u001b[22m\u001b[22m at \u001b[1m./pkg/entry.jl:51\u001b[22m\u001b[22m",
            " [4] \u001b[1m(::Base.Pkg.Dir.##3#6{Array{Any,1},Base.Pkg.Entry.#add,Tuple{String}})\u001b[22m\u001b[22m\u001b[1m(\u001b[22m\u001b[22m\u001b[1m)\u001b[22m\u001b[22m at \u001b[1m./pkg/dir.jl:33\u001b[22m\u001b[22m",
            " [5] \u001b[1mcd\u001b[22m\u001b[22m\u001b[1m(\u001b[22m\u001b[22m::Base.Pkg.Dir.##3#6{Array{Any,1},Base.Pkg.Entry.#add,Tuple{String}}, ::String\u001b[1m)\u001b[22m\u001b[22m at \u001b[1m./file.jl:70\u001b[22m\u001b[22m",
            " [6] \u001b[1mwithenv\u001b[22m\u001b[22m\u001b[1m(\u001b[22m\u001b[22m::Base.Pkg.Dir.##2#5{Array{Any,1},Base.Pkg.Entry.#add,Tuple{String},String}, ::Pair{String,String}, ::Vararg{Pair{String,String},N} where N\u001b[1m)\u001b[22m\u001b[22m at \u001b[1m./env.jl:157\u001b[22m\u001b[22m",
            " [7] \u001b[1m#cd#1\u001b[22m\u001b[22m\u001b[1m(\u001b[22m\u001b[22m::Array{Any,1}, ::Function, ::Function, ::String, ::Vararg{String,N} where N\u001b[1m)\u001b[22m\u001b[22m at \u001b[1m./pkg/dir.jl:32\u001b[22m\u001b[22m",
            " [8] \u001b[1madd\u001b[22m\u001b[22m\u001b[1m(\u001b[22m\u001b[22m::String\u001b[1m)\u001b[22m\u001b[22m at \u001b[1m./pkg/pkg.jl:117\u001b[22m\u001b[22m",
            " [9] \u001b[1minclude_string\u001b[22m\u001b[22m\u001b[1m(\u001b[22m\u001b[22m::String, ::String\u001b[1m)\u001b[22m\u001b[22m at \u001b[1m./loading.jl:522\u001b[22m\u001b[22m"
          ]
        }
      ],
      "execution_count": 3,
      "metadata": {}
    },
    {
      "cell_type": "code",
      "source": [],
      "outputs": [],
      "execution_count": null,
      "metadata": {}
    }
  ],
  "metadata": {
    "anaconda-cloud": {},
    "kernel_info": {
      "name": "julia-0.6"
    },
    "kernelspec": {
      "display_name": "Julia 0.6.2",
      "language": "julia",
      "name": "julia-0.6"
    },
    "language_info": {
      "file_extension": ".jl",
      "mimetype": "application/julia",
      "name": "julia",
      "version": "0.6.2"
    },
    "nteract": {
      "version": "0.12.3"
    }
  },
  "nbformat": 4,
  "nbformat_minor": 4
}