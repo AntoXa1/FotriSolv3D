{
 "cells": [
  {
   "cell_type": "code",
   "execution_count": 1,
   "metadata": {},
   "outputs": [],
   "source": [
    "push!(LOAD_PATH, pwd())\n",
    "include(\"./physconsts.jl\")\n",
    "using .PhysConst"
   ]
  },
  {
   "cell_type": "code",
   "execution_count": 2,
   "metadata": {},
   "outputs": [
    {
     "data": {
      "text/plain": [
       "2.997925e10"
      ]
     },
     "execution_count": 2,
     "metadata": {},
     "output_type": "execute_result"
    }
   ],
   "source": [
    "CL"
   ]
  },
  {
   "cell_type": "code",
   "execution_count": 10,
   "metadata": {},
   "outputs": [
    {
     "data": {
      "text/plain": [
       "#21 (generic function with 1 method)"
      ]
     },
     "execution_count": 10,
     "metadata": {},
     "output_type": "execute_result"
    }
   ],
   "source": [
    "GiveSoundSpeed = function(T0)\n",
    "        return ((RGAS*T0)^0.5)\n",
    "end\n",
    "\n",
    "GiveCrat = function(v0)\n",
    "        return(CL/v0)\n",
    "end\n",
    "\n",
    "GivePrat = function(ro0, T0, v0)\n",
    "        return(ARAD*T0^4/ro0/v0^2)\n",
    "end\n"
   ]
  },
  {
   "cell_type": "code",
   "execution_count": 6,
   "metadata": {},
   "outputs": [
    {
     "data": {
      "text/plain": [
       "4.0767634221279016e6"
      ]
     },
     "execution_count": 6,
     "metadata": {},
     "output_type": "execute_result"
    }
   ],
   "source": [
    "GiveSoundSpeed(2e5)"
   ]
  },
  {
   "cell_type": "code",
   "execution_count": 13,
   "metadata": {},
   "outputs": [
    {
     "name": "stdout",
     "output_type": "stream",
     "text": [
      "GiveCrat(V0) = 7353.6889183410285\n",
      "GivePrat(1.0e-8, T0, GiveSoundSpeed(T0)) = 72.82445246690736\n"
     ]
    },
    {
     "data": {
      "text/plain": [
       "72.82445246690736"
      ]
     },
     "execution_count": 13,
     "metadata": {},
     "output_type": "execute_result"
    }
   ],
   "source": [
    "T0=2e5\n",
    "\n",
    "V0 = GiveSoundSpeed(T0)\n",
    "\n",
    "@show GiveCrat(V0)\n",
    "\n",
    "@show GivePrat(1e-8,T0, GiveSoundSpeed(T0))\n",
    "\n"
   ]
  },
  {
   "cell_type": "code",
   "execution_count": null,
   "metadata": {},
   "outputs": [],
   "source": []
  }
 ],
 "metadata": {
  "kernelspec": {
   "display_name": "Julia 1.4.2",
   "language": "julia",
   "name": "julia-1.4"
  },
  "language_info": {
   "file_extension": ".jl",
   "mimetype": "application/julia",
   "name": "julia",
   "version": "1.4.2"
  }
 },
 "nbformat": 4,
 "nbformat_minor": 4
}
