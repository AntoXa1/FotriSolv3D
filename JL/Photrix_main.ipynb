{
 "cells": [
  {
   "cell_type": "code",
   "execution_count": 2,
   "metadata": {},
   "outputs": [],
   "source": [
    "using Plots\n",
    "using StaticArrays\n",
    "import LinearAlgebra\n",
    "import FastGaussQuadrature\n",
    "\n",
    "push!(LOAD_PATH, pwd())\n",
    "include(\"./physconsts.jl\")\n",
    "using .PhysConst\n"
   ]
  },
  {
   "cell_type": "code",
   "execution_count": 1,
   "metadata": {},
   "outputs": [],
   "source": [
    "include(\"RTtypes.jl\")\n",
    "\n",
    "abstract type AbstractSGrid end\n",
    "\n",
    "# using .RTypes\n",
    "\n",
    "\n",
    "mutable struct CartGrid\n",
    "    \"\"\" Physical space grid from simulation \"\"\"\n",
    "    \n",
    "    x1 :: Matrix{Float64}\n",
    "\n",
    "end\n",
    "\n",
    "mutable struct CylGrid\n",
    "    \"\"\" Cylindrical space grid from simulation \"\"\"\n",
    "    \n",
    "    x1 :: Matrix{Float64}\n",
    "\n",
    "end\n",
    "\n",
    "mutable struct TGrid\n",
    "    \"\"\" Tangent space grid from simulation \"\"\"\n",
    "    \n",
    "    x1 :: Matrix{Float64}\n",
    "\n",
    "end\n",
    "\n",
    "\n",
    "\n",
    "# make TGrid from SGrid"
   ]
  },
  {
   "cell_type": "code",
   "execution_count": null,
   "metadata": {},
   "outputs": [],
   "source": []
  }
 ],
 "metadata": {
  "kernelspec": {
   "display_name": "Julia 1.4.2",
   "language": "julia",
   "name": "julia-1.4"
  },
  "language_info": {
   "file_extension": ".jl",
   "mimetype": "application/julia",
   "name": "julia",
   "version": "1.4.2"
  }
 },
 "nbformat": 4,
 "nbformat_minor": 4
}
