{
 "cells": [
  {
   "cell_type": "code",
   "execution_count": 4,
   "source": [
    "using Plots\n",
    "using StaticArrays\n",
    "import LinearAlgebra\n",
    "import FastGaussQuadrature\n",
    "\n",
    "push!(LOAD_PATH, pwd())\n",
    "include(\"./physconsts.jl\")\n",
    "using .PhysConst\n"
   ],
   "outputs": [
    {
     "output_type": "stream",
     "name": "stderr",
     "text": [
      "WARNING: replacing module PhysConst.\n"
     ]
    }
   ],
   "metadata": {}
  },
  {
   "cell_type": "code",
   "execution_count": 11,
   "source": [
    "include(\"RTtypes.jl\")\n",
    "# using .RTypes\n"
   ],
   "outputs": [
    {
     "output_type": "error",
     "ename": "ErrorException",
     "evalue": "could not open file /Users/avdorodn/PROGRAMS/PROJECTS/FotriSolv3D/JL/RTypes.jl",
     "traceback": [
      "could not open file /Users/avdorodn/PROGRAMS/PROJECTS/FotriSolv3D/JL/RTypes.jl",
      "",
      "Stacktrace:",
      " [1] include(::String) at ./client.jl:439",
      " [2] top-level scope at In[11]:1"
     ]
    }
   ],
   "metadata": {}
  },
  {
   "cell_type": "code",
   "execution_count": null,
   "source": [],
   "outputs": [],
   "metadata": {}
  }
 ],
 "metadata": {
  "kernelspec": {
   "display_name": "Julia 1.4.2",
   "language": "julia",
   "name": "julia-1.4"
  },
  "language_info": {
   "file_extension": ".jl",
   "mimetype": "application/julia",
   "name": "julia",
   "version": "1.4.2"
  }
 },
 "nbformat": 4,
 "nbformat_minor": 4
}